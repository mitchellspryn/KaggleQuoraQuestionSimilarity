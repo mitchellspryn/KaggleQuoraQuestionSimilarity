{
 "cells": [
  {
   "cell_type": "markdown",
   "metadata": {},
   "source": [
    "# Some playing around with the data and sentiment\n"
   ]
  },
  {
   "cell_type": "code",
   "execution_count": 38,
   "metadata": {
    "collapsed": false
   },
   "outputs": [],
   "source": [
    "%matplotlib inline\n",
    "import numpy as np\n",
    "import pandas as pd\n",
    "import re\n",
    "from matplotlib import pyplot as plt\n",
    "from itertools import islice\n",
    "from string import punctuation\n",
    "from nltk.stem import PorterStemmer\n",
    "from nltk.tokenize import sent_tokenize, word_tokenize\n",
    "from nltk.corpus import stopwords\n",
    "from __future__ import division\n",
    "\n",
    "dataset = pd.read_csv('../data/train.csv', encoding='utf-8').fillna('').drop(['id'],1)\n",
    "my_stopwords = sorted (set (stopwords.words('english')))   # allow for easy adding of additional libraries\n",
    "\n"
   ]
  },
  {
   "cell_type": "code",
   "execution_count": 2,
   "metadata": {
    "collapsed": false
   },
   "outputs": [
    {
     "data": {
      "text/html": [
       "<div>\n",
       "<table border=\"1\" class=\"dataframe\">\n",
       "  <thead>\n",
       "    <tr style=\"text-align: right;\">\n",
       "      <th></th>\n",
       "      <th>qid1</th>\n",
       "      <th>qid2</th>\n",
       "      <th>question1</th>\n",
       "      <th>question2</th>\n",
       "      <th>is_duplicate</th>\n",
       "    </tr>\n",
       "  </thead>\n",
       "  <tbody>\n",
       "    <tr>\n",
       "      <th>0</th>\n",
       "      <td>1</td>\n",
       "      <td>2</td>\n",
       "      <td>What is the step by step guide to invest in sh...</td>\n",
       "      <td>What is the step by step guide to invest in sh...</td>\n",
       "      <td>0</td>\n",
       "    </tr>\n",
       "    <tr>\n",
       "      <th>1</th>\n",
       "      <td>3</td>\n",
       "      <td>4</td>\n",
       "      <td>What is the story of Kohinoor (Koh-i-Noor) Dia...</td>\n",
       "      <td>What would happen if the Indian government sto...</td>\n",
       "      <td>0</td>\n",
       "    </tr>\n",
       "    <tr>\n",
       "      <th>2</th>\n",
       "      <td>5</td>\n",
       "      <td>6</td>\n",
       "      <td>How can I increase the speed of my internet co...</td>\n",
       "      <td>How can Internet speed be increased by hacking...</td>\n",
       "      <td>0</td>\n",
       "    </tr>\n",
       "    <tr>\n",
       "      <th>3</th>\n",
       "      <td>7</td>\n",
       "      <td>8</td>\n",
       "      <td>Why am I mentally very lonely? How can I solve...</td>\n",
       "      <td>Find the remainder when [math]23^{24}[/math] i...</td>\n",
       "      <td>0</td>\n",
       "    </tr>\n",
       "    <tr>\n",
       "      <th>4</th>\n",
       "      <td>9</td>\n",
       "      <td>10</td>\n",
       "      <td>Which one dissolve in water quikly sugar, salt...</td>\n",
       "      <td>Which fish would survive in salt water?</td>\n",
       "      <td>0</td>\n",
       "    </tr>\n",
       "    <tr>\n",
       "      <th>5</th>\n",
       "      <td>11</td>\n",
       "      <td>12</td>\n",
       "      <td>Astrology: I am a Capricorn Sun Cap moon and c...</td>\n",
       "      <td>I'm a triple Capricorn (Sun, Moon and ascendan...</td>\n",
       "      <td>1</td>\n",
       "    </tr>\n",
       "    <tr>\n",
       "      <th>6</th>\n",
       "      <td>13</td>\n",
       "      <td>14</td>\n",
       "      <td>Should I buy tiago?</td>\n",
       "      <td>What keeps childern active and far from phone ...</td>\n",
       "      <td>0</td>\n",
       "    </tr>\n",
       "    <tr>\n",
       "      <th>7</th>\n",
       "      <td>15</td>\n",
       "      <td>16</td>\n",
       "      <td>How can I be a good geologist?</td>\n",
       "      <td>What should I do to be a great geologist?</td>\n",
       "      <td>1</td>\n",
       "    </tr>\n",
       "    <tr>\n",
       "      <th>8</th>\n",
       "      <td>17</td>\n",
       "      <td>18</td>\n",
       "      <td>When do you use シ instead of し?</td>\n",
       "      <td>When do you use \"&amp;\" instead of \"and\"?</td>\n",
       "      <td>0</td>\n",
       "    </tr>\n",
       "    <tr>\n",
       "      <th>9</th>\n",
       "      <td>19</td>\n",
       "      <td>20</td>\n",
       "      <td>Motorola (company): Can I hack my Charter Moto...</td>\n",
       "      <td>How do I hack Motorola DCX3400 for free internet?</td>\n",
       "      <td>0</td>\n",
       "    </tr>\n",
       "    <tr>\n",
       "      <th>10</th>\n",
       "      <td>21</td>\n",
       "      <td>22</td>\n",
       "      <td>Method to find separation of slits using fresn...</td>\n",
       "      <td>What are some of the things technicians can te...</td>\n",
       "      <td>0</td>\n",
       "    </tr>\n",
       "    <tr>\n",
       "      <th>11</th>\n",
       "      <td>23</td>\n",
       "      <td>24</td>\n",
       "      <td>How do I read and find my YouTube comments?</td>\n",
       "      <td>How can I see all my Youtube comments?</td>\n",
       "      <td>1</td>\n",
       "    </tr>\n",
       "    <tr>\n",
       "      <th>12</th>\n",
       "      <td>25</td>\n",
       "      <td>26</td>\n",
       "      <td>What can make Physics easy to learn?</td>\n",
       "      <td>How can you make physics easy to learn?</td>\n",
       "      <td>1</td>\n",
       "    </tr>\n",
       "    <tr>\n",
       "      <th>13</th>\n",
       "      <td>27</td>\n",
       "      <td>28</td>\n",
       "      <td>What was your first sexual experience like?</td>\n",
       "      <td>What was your first sexual experience?</td>\n",
       "      <td>1</td>\n",
       "    </tr>\n",
       "    <tr>\n",
       "      <th>14</th>\n",
       "      <td>29</td>\n",
       "      <td>30</td>\n",
       "      <td>What are the laws to change your status from a...</td>\n",
       "      <td>What are the laws to change your status from a...</td>\n",
       "      <td>0</td>\n",
       "    </tr>\n",
       "    <tr>\n",
       "      <th>15</th>\n",
       "      <td>31</td>\n",
       "      <td>32</td>\n",
       "      <td>What would a Trump presidency mean for current...</td>\n",
       "      <td>How will a Trump presidency affect the student...</td>\n",
       "      <td>1</td>\n",
       "    </tr>\n",
       "    <tr>\n",
       "      <th>16</th>\n",
       "      <td>33</td>\n",
       "      <td>34</td>\n",
       "      <td>What does manipulation mean?</td>\n",
       "      <td>What does manipulation means?</td>\n",
       "      <td>1</td>\n",
       "    </tr>\n",
       "    <tr>\n",
       "      <th>17</th>\n",
       "      <td>35</td>\n",
       "      <td>36</td>\n",
       "      <td>Why do girls want to be friends with the guy t...</td>\n",
       "      <td>How do guys feel after rejecting a girl?</td>\n",
       "      <td>0</td>\n",
       "    </tr>\n",
       "    <tr>\n",
       "      <th>18</th>\n",
       "      <td>37</td>\n",
       "      <td>38</td>\n",
       "      <td>Why are so many Quora users posting questions ...</td>\n",
       "      <td>Why do people ask Quora questions which can be...</td>\n",
       "      <td>1</td>\n",
       "    </tr>\n",
       "    <tr>\n",
       "      <th>19</th>\n",
       "      <td>39</td>\n",
       "      <td>40</td>\n",
       "      <td>Which is the best digital marketing institutio...</td>\n",
       "      <td>Which is the best digital marketing institute ...</td>\n",
       "      <td>0</td>\n",
       "    </tr>\n",
       "  </tbody>\n",
       "</table>\n",
       "</div>"
      ],
      "text/plain": [
       "    qid1  qid2                                          question1  \\\n",
       "0      1     2  What is the step by step guide to invest in sh...   \n",
       "1      3     4  What is the story of Kohinoor (Koh-i-Noor) Dia...   \n",
       "2      5     6  How can I increase the speed of my internet co...   \n",
       "3      7     8  Why am I mentally very lonely? How can I solve...   \n",
       "4      9    10  Which one dissolve in water quikly sugar, salt...   \n",
       "5     11    12  Astrology: I am a Capricorn Sun Cap moon and c...   \n",
       "6     13    14                                Should I buy tiago?   \n",
       "7     15    16                     How can I be a good geologist?   \n",
       "8     17    18                    When do you use シ instead of し?   \n",
       "9     19    20  Motorola (company): Can I hack my Charter Moto...   \n",
       "10    21    22  Method to find separation of slits using fresn...   \n",
       "11    23    24        How do I read and find my YouTube comments?   \n",
       "12    25    26               What can make Physics easy to learn?   \n",
       "13    27    28        What was your first sexual experience like?   \n",
       "14    29    30  What are the laws to change your status from a...   \n",
       "15    31    32  What would a Trump presidency mean for current...   \n",
       "16    33    34                       What does manipulation mean?   \n",
       "17    35    36  Why do girls want to be friends with the guy t...   \n",
       "18    37    38  Why are so many Quora users posting questions ...   \n",
       "19    39    40  Which is the best digital marketing institutio...   \n",
       "\n",
       "                                            question2  is_duplicate  \n",
       "0   What is the step by step guide to invest in sh...             0  \n",
       "1   What would happen if the Indian government sto...             0  \n",
       "2   How can Internet speed be increased by hacking...             0  \n",
       "3   Find the remainder when [math]23^{24}[/math] i...             0  \n",
       "4             Which fish would survive in salt water?             0  \n",
       "5   I'm a triple Capricorn (Sun, Moon and ascendan...             1  \n",
       "6   What keeps childern active and far from phone ...             0  \n",
       "7           What should I do to be a great geologist?             1  \n",
       "8               When do you use \"&\" instead of \"and\"?             0  \n",
       "9   How do I hack Motorola DCX3400 for free internet?             0  \n",
       "10  What are some of the things technicians can te...             0  \n",
       "11             How can I see all my Youtube comments?             1  \n",
       "12            How can you make physics easy to learn?             1  \n",
       "13             What was your first sexual experience?             1  \n",
       "14  What are the laws to change your status from a...             0  \n",
       "15  How will a Trump presidency affect the student...             1  \n",
       "16                      What does manipulation means?             1  \n",
       "17           How do guys feel after rejecting a girl?             0  \n",
       "18  Why do people ask Quora questions which can be...             1  \n",
       "19  Which is the best digital marketing institute ...             0  "
      ]
     },
     "execution_count": 2,
     "metadata": {},
     "output_type": "execute_result"
    }
   ],
   "source": [
    "dataset.head(20)"
   ]
  },
  {
   "cell_type": "code",
   "execution_count": 3,
   "metadata": {
    "collapsed": false
   },
   "outputs": [
    {
     "data": {
      "text/plain": [
       "(404290, 5)"
      ]
     },
     "execution_count": 3,
     "metadata": {},
     "output_type": "execute_result"
    }
   ],
   "source": [
    "dataset.shape"
   ]
  },
  {
   "cell_type": "markdown",
   "metadata": {},
   "source": [
    "A look at the unique questions:"
   ]
  },
  {
   "cell_type": "code",
   "execution_count": 4,
   "metadata": {
    "collapsed": false
   },
   "outputs": [
    {
     "name": "stdout",
     "output_type": "stream",
     "text": [
      "Number of distinct questions: 347345\n"
     ]
    }
   ],
   "source": [
    "distinct_question_ids = set(list(dataset['qid1'] + list(dataset['qid2'])))\n",
    "print('Number of distinct questions: {0}'.format(len(distinct_question_ids)))"
   ]
  },
  {
   "cell_type": "code",
   "execution_count": 5,
   "metadata": {
    "collapsed": false
   },
   "outputs": [],
   "source": [
    "columns = ['qid', 'question']\n",
    "actual_questions = {}\n",
    "for index, row in dataset.iterrows():\n",
    "    if row['qid1'] not in actual_questions:\n",
    "        actual_questions[row['qid1']] = row['question1']\n",
    "    if row['qid2'] not in actual_questions:\n",
    "        actual_questions[row['qid2']] = row['question2']\n"
   ]
  },
  {
   "cell_type": "code",
   "execution_count": 6,
   "metadata": {
    "collapsed": false
   },
   "outputs": [],
   "source": [
    "actual_questions_df = pd.DataFrame(list(actual_questions.iteritems()), columns=['qid', 'question'])"
   ]
  },
  {
   "cell_type": "code",
   "execution_count": 7,
   "metadata": {
    "collapsed": false
   },
   "outputs": [
    {
     "name": "stdout",
     "output_type": "stream",
     "text": [
      "Number unique questions (by ID):  537933\n",
      "(537933, 2)\n"
     ]
    }
   ],
   "source": [
    "print 'Number unique questions (by ID): ', len(actual_questions)\n",
    "print actual_questions_df.shape"
   ]
  },
  {
   "cell_type": "markdown",
   "metadata": {},
   "source": [
    "## Just for getting an idea, load the test set and see how many entries are in there:"
   ]
  },
  {
   "cell_type": "code",
   "execution_count": 8,
   "metadata": {
    "collapsed": false
   },
   "outputs": [
    {
     "name": "stdout",
     "output_type": "stream",
     "text": [
      "(2345796, 3)\n"
     ]
    }
   ],
   "source": [
    "testset = pd.read_csv('../data/test.csv')\n",
    "print testset.shape"
   ]
  },
  {
   "cell_type": "markdown",
   "metadata": {},
   "source": [
    "2.3 mil question pairs. ok, that will need some comupting power, so keep in mind that runs won't be at the snap of a finger.\n",
    "\n",
    "Training set: So rather than processing 404k question pairs, processing 538k uniques questions and then re-pairing them seems comutationally more efficient. Especially when considering the 2.3 mil question pairs in the test set. \n",
    "\n",
    "to-do: prep the test set for unique questions."
   ]
  },
  {
   "cell_type": "markdown",
   "metadata": {},
   "source": [
    "Ok, so let's use a subset of the actual_questions_df to play around with sentiment (just to keep processing time down.) I'll use a randomw split for 10% with seed 999 for this."
   ]
  },
  {
   "cell_type": "code",
   "execution_count": 9,
   "metadata": {
    "collapsed": false
   },
   "outputs": [
    {
     "name": "stdout",
     "output_type": "stream",
     "text": [
      "(53793, 2)  expected: (53793, 2)\n"
     ]
    }
   ],
   "source": [
    "sample_df = actual_questions_df.sample(frac=0.1, random_state=999)\n",
    "print sample_df.shape, ' expected: (53793, 2)'"
   ]
  },
  {
   "cell_type": "code",
   "execution_count": 10,
   "metadata": {
    "collapsed": false
   },
   "outputs": [
    {
     "name": "stdout",
     "output_type": "stream",
     "text": [
      "           qid                                           question\n",
      "321746  321747                       How did you prepare for MBA?\n",
      "255670  255671                      Do I have to divorce my wife?\n",
      "516117  516118   What are the best examples of good house design?\n",
      "145912  145913       What will be the impact of GST on IT Sector?\n",
      "134304  134305                 How can I be an Hollywood actress?\n",
      "294295  294296              What could potentially replace Quora?\n",
      "163150  163151  Where can I get a place to stay in goa for a l...\n",
      "163010  163011  What is the current placement scenario for M.T...\n",
      "362452  362453      How many employees does Quora currently have?\n",
      "231268  231269  Why is it seen as racist to generalize the beh...\n",
      "295059  295060  What are the themes explored in the book 'The ...\n",
      "341174  341175  People who don't have any friends, how do you ...\n",
      "209121  209122                     What does success mean to you?\n",
      "532747  532748  Can Shia faith be described as an offshoot of ...\n",
      "308748  308749                     Can my rabbit eat bedding hay?\n",
      "385202  385203  How can I find out what is searched on a speci...\n",
      "323359  323360  What is something you enjoy about asking quest...\n",
      "506040  506041  What makes the fine print of a document legall...\n",
      "77901    77902                         What is Donald Trump's IQ?\n",
      "70055    70056  How come egg yolks have different colors in di...\n"
     ]
    }
   ],
   "source": [
    "print sample_df.head(20)"
   ]
  },
  {
   "cell_type": "markdown",
   "metadata": {},
   "source": [
    "Yep, looks alright. so let'd get to some preprocessing:\n"
   ]
  },
  {
   "cell_type": "code",
   "execution_count": 11,
   "metadata": {
    "collapsed": false
   },
   "outputs": [],
   "source": [
    "def remove_punctuation(s):\n",
    "    s = ''.join([i for i in s if i not in frozenset(punctuation)])\n",
    "    return s\n",
    "def stemming(s):\n",
    "    ps = PorterStemmer()\n",
    "    return (' '.join(ps.stem(single) for single in s.split(' ')))\n",
    "def cleaning(s):\n",
    "    s = s.replace('-', ' ')                    # Make individual words out of words with \"-\"\n",
    "    htmler = re.compile('<*?>')\n",
    "    cleaned = re.sub(htmler, '', s)            # remove web / html notation\n",
    "    cleaned = ' '.join([x for x in cleaned.split(' ') if x not in my_stopwords])\n",
    "    cleaned = cleaned.replace('\\n', ' ')       # remove line breaks\n",
    "    cleaned = cleaned.replace('  ', ' ').replace('  ', ' ').replace('  ', ' ')   # reduce multiple blank spaces between words to single blank\n",
    "    cleaned = cleaned.strip()                  # remove extra spaces before and after words\n",
    "    return (cleaned)"
   ]
  },
  {
   "cell_type": "code",
   "execution_count": 18,
   "metadata": {
    "collapsed": false
   },
   "outputs": [],
   "source": [
    "sample_df['cleaned'] = sample_df['question'].apply(remove_punctuation)\n",
    "sample_df['cleaned'] = sample_df['cleaned'].apply(cleaning)\n",
    "sample_df['cleaned'] = sample_df['cleaned'].apply(stemming)"
   ]
  },
  {
   "cell_type": "code",
   "execution_count": 19,
   "metadata": {
    "collapsed": false
   },
   "outputs": [
    {
     "name": "stdout",
     "output_type": "stream",
     "text": [
      "           qid                                           question  \\\n",
      "321746  321747                       How did you prepare for MBA?   \n",
      "255670  255671                      Do I have to divorce my wife?   \n",
      "516117  516118   What are the best examples of good house design?   \n",
      "145912  145913       What will be the impact of GST on IT Sector?   \n",
      "134304  134305                 How can I be an Hollywood actress?   \n",
      "294295  294296              What could potentially replace Quora?   \n",
      "163150  163151  Where can I get a place to stay in goa for a l...   \n",
      "163010  163011  What is the current placement scenario for M.T...   \n",
      "362452  362453      How many employees does Quora currently have?   \n",
      "231268  231269  Why is it seen as racist to generalize the beh...   \n",
      "\n",
      "                                                  cleaned  \n",
      "321746                                     How prepar MBA  \n",
      "255670                                   Do I divorc wife  \n",
      "516117                  What best exampl good hous design  \n",
      "145912                          What impact GST IT Sector  \n",
      "134304                            How I Hollywood actress  \n",
      "294295                    What could potenti replac Quora  \n",
      "163150              Where I get place stay goa low budget  \n",
      "163010  What current placement scenario MTech placemen...  \n",
      "362452                     How mani employe Quora current  \n",
      "231268  Whi seen racist gener behavior black peopl eg ...  \n"
     ]
    }
   ],
   "source": [
    "print sample_df.head(10)"
   ]
  },
  {
   "cell_type": "code",
   "execution_count": 20,
   "metadata": {
    "collapsed": true
   },
   "outputs": [],
   "source": [
    "def number_words(s):\n",
    "    num_words = len(s.split())\n",
    "    return num_words\n",
    "\n",
    "def number_chars(s):\n",
    "    num_char = len(s)\n",
    "    return num_char\n"
   ]
  },
  {
   "cell_type": "code",
   "execution_count": 21,
   "metadata": {
    "collapsed": false
   },
   "outputs": [],
   "source": [
    "sample_df['num_words'] = sample_df['cleaned'].apply(number_words)\n",
    "sample_df['num_chars'] = sample_df['cleaned'].apply(number_chars)\n"
   ]
  },
  {
   "cell_type": "code",
   "execution_count": 22,
   "metadata": {
    "collapsed": false
   },
   "outputs": [
    {
     "name": "stdout",
     "output_type": "stream",
     "text": [
      "           qid                                           question  \\\n",
      "321746  321747                       How did you prepare for MBA?   \n",
      "255670  255671                      Do I have to divorce my wife?   \n",
      "516117  516118   What are the best examples of good house design?   \n",
      "145912  145913       What will be the impact of GST on IT Sector?   \n",
      "134304  134305                 How can I be an Hollywood actress?   \n",
      "294295  294296              What could potentially replace Quora?   \n",
      "163150  163151  Where can I get a place to stay in goa for a l...   \n",
      "163010  163011  What is the current placement scenario for M.T...   \n",
      "362452  362453      How many employees does Quora currently have?   \n",
      "231268  231269  Why is it seen as racist to generalize the beh...   \n",
      "\n",
      "                                                  cleaned  num_words  \\\n",
      "321746                                     How prepar MBA          3   \n",
      "255670                                   Do I divorc wife          4   \n",
      "516117                  What best exampl good hous design          6   \n",
      "145912                          What impact GST IT Sector          5   \n",
      "134304                            How I Hollywood actress          4   \n",
      "294295                    What could potenti replac Quora          5   \n",
      "163150              Where I get place stay goa low budget          8   \n",
      "163010  What current placement scenario MTech placemen...         11   \n",
      "362452                     How mani employe Quora current          5   \n",
      "231268  Whi seen racist gener behavior black peopl eg ...         30   \n",
      "\n",
      "        num_chars  \n",
      "321746         14  \n",
      "255670         16  \n",
      "516117         33  \n",
      "145912         25  \n",
      "134304         23  \n",
      "294295         31  \n",
      "163150         37  \n",
      "163010         82  \n",
      "362452         30  \n",
      "231268        186  \n"
     ]
    }
   ],
   "source": [
    "print sample_df.head(10)"
   ]
  },
  {
   "cell_type": "code",
   "execution_count": 23,
   "metadata": {
    "collapsed": true
   },
   "outputs": [],
   "source": [
    "positive_words = open('../data/positive.txt').read()\n",
    "positive_words_list = positive_words.split('\\n')\n",
    "negative_words = open('../data/negative.txt').read()\n",
    "negative_words_list = negative_words.split('\\n')"
   ]
  },
  {
   "cell_type": "code",
   "execution_count": 51,
   "metadata": {
    "collapsed": false
   },
   "outputs": [],
   "source": [
    "def sentiment(s):\n",
    "    words = s.split(' ')\n",
    "    length = len(words)\n",
    "    sentiment_list = list()\n",
    "    if (length // 2) < 7:\n",
    "        max_len = (length // 2)\n",
    "    else:\n",
    "        max_len = 7\n",
    "    for i in range(1, max_len + 1):\n",
    "        sentiment_sub_list = list()\n",
    "        for j in range(len(words) - i + 1):\n",
    "            positive_counter = 0\n",
    "            negative_counter = 0\n",
    "            words_rest = words[j:j+i]\n",
    "            for word in words_rest:\n",
    "                if word in positive_words_list:\n",
    "                    positive_counter += 1\n",
    "                if word in negative_words_list:\n",
    "                    negative_counter += 1\n",
    "            sentiment_sub_list.append((float(positive_counter) / i) - (float(negative_counter) / i))\n",
    "        sentiment_list.append([i, sentiment_sub_list])\n",
    "    return sentiment_list\n",
    "                "
   ]
  },
  {
   "cell_type": "code",
   "execution_count": 50,
   "metadata": {
    "collapsed": false
   },
   "outputs": [],
   "source": [
    "sample_df['sentiment'] = sample_df['cleaned'].apply(sentiment)"
   ]
  },
  {
   "cell_type": "code",
   "execution_count": 52,
   "metadata": {
    "collapsed": false
   },
   "outputs": [
    {
     "name": "stdout",
     "output_type": "stream",
     "text": [
      "           qid                                           question  \\\n",
      "321746  321747                       How did you prepare for MBA?   \n",
      "255670  255671                      Do I have to divorce my wife?   \n",
      "516117  516118   What are the best examples of good house design?   \n",
      "145912  145913       What will be the impact of GST on IT Sector?   \n",
      "134304  134305                 How can I be an Hollywood actress?   \n",
      "294295  294296              What could potentially replace Quora?   \n",
      "163150  163151  Where can I get a place to stay in goa for a l...   \n",
      "163010  163011  What is the current placement scenario for M.T...   \n",
      "362452  362453      How many employees does Quora currently have?   \n",
      "231268  231269  Why is it seen as racist to generalize the beh...   \n",
      "\n",
      "                                                  cleaned  num_words  \\\n",
      "321746                                     How prepar MBA          3   \n",
      "255670                                   Do I divorc wife          4   \n",
      "516117                  What best exampl good hous design          6   \n",
      "145912                          What impact GST IT Sector          5   \n",
      "134304                            How I Hollywood actress          4   \n",
      "294295                    What could potenti replac Quora          5   \n",
      "163150              Where I get place stay goa low budget          8   \n",
      "163010  What current placement scenario MTech placemen...         11   \n",
      "362452                     How mani employe Quora current          5   \n",
      "231268  Whi seen racist gener behavior black peopl eg ...         30   \n",
      "\n",
      "        num_chars                                          sentiment  \n",
      "321746         14                             [[1, [0.0, 0.0, 0.0]]]  \n",
      "255670         16  [[1, [0.0, 0.0, 0.0, 0.0]], [2, [0.0, 0.0, 0.0]]]  \n",
      "516117         33  [[1, [0.0, 0.0, 0.0, 1.0, 0.0, 0.0]], [2, [0.0...  \n",
      "145912         25  [[1, [0.0, 0.0, 0.0, 0.0, 0.0]], [2, [0.0, 0.0...  \n",
      "134304         23  [[1, [0.0, 0.0, 0.0, 0.0]], [2, [0.0, 0.0, 0.0]]]  \n",
      "294295         31  [[1, [0.0, 0.0, 0.0, 0.0, 0.0]], [2, [0.0, 0.0...  \n",
      "163150         37  [[1, [0.0, 0.0, 0.0, 0.0, 0.0, 0.0, -1.0, 0.0]...  \n",
      "163010         82  [[1, [0.0, 0.0, 0.0, 0.0, 0.0, 0.0, 0.0, 0.0, ...  \n",
      "362452         30  [[1, [0.0, 0.0, 0.0, 0.0, 0.0]], [2, [0.0, 0.0...  \n",
      "231268        186  [[1, [0.0, 0.0, -1.0, 0.0, 0.0, -1.0, 0.0, 0.0...  \n"
     ]
    }
   ],
   "source": [
    "print sample_df.head(10)"
   ]
  },
  {
   "cell_type": "code",
   "execution_count": 53,
   "metadata": {
    "collapsed": false,
    "scrolled": true
   },
   "outputs": [
    {
     "name": "stdout",
     "output_type": "stream",
     "text": [
      "[[1, [0.0, 0.0, -1.0, 0.0, 0.0, -1.0, 0.0, 0.0, 0.0, -1.0, 0.0, 0.0, 0.0, 0.0, -1.0, 0.0, 0.0, 0.0, -1.0, -1.0, 0.0, 1.0, 0.0, 0.0, 0.0, 1.0, 0.0, 0.0, 0.0, -1.0]], [2, [0.0, -0.5, -0.5, 0.0, -0.5, -0.5, 0.0, 0.0, -0.5, -0.5, 0.0, 0.0, 0.0, -0.5, -0.5, 0.0, 0.0, -0.5, -1.0, -0.5, 0.5, 0.5, 0.0, 0.0, 0.5, 0.5, 0.0, 0.0, -0.5]], [3, [-0.3333333333333333, -0.3333333333333333, -0.3333333333333333, -0.3333333333333333, -0.3333333333333333, -0.3333333333333333, 0.0, -0.3333333333333333, -0.3333333333333333, -0.3333333333333333, 0.0, 0.0, -0.3333333333333333, -0.3333333333333333, -0.3333333333333333, 0.0, -0.3333333333333333, -0.6666666666666666, -0.6666666666666666, 0.0, 0.3333333333333333, 0.3333333333333333, 0.0, 0.3333333333333333, 0.3333333333333333, 0.3333333333333333, 0.0, -0.3333333333333333]], [4, [-0.25, -0.25, -0.5, -0.25, -0.25, -0.25, -0.25, -0.25, -0.25, -0.25, 0.0, -0.25, -0.25, -0.25, -0.25, -0.25, -0.5, -0.5, -0.25, 0.0, 0.25, 0.25, 0.25, 0.25, 0.25, 0.25, -0.25]], [5, [-0.2, -0.4, -0.4, -0.2, -0.2, -0.4, -0.2, -0.2, -0.2, -0.2, -0.2, -0.2, -0.2, -0.2, -0.4, -0.4, -0.4, -0.2, -0.2, 0.0, 0.2, 0.4, 0.2, 0.2, 0.2, 0.0]], [6, [-0.3333333333333333, -0.3333333333333333, -0.3333333333333333, -0.16666666666666666, -0.3333333333333333, -0.3333333333333333, -0.16666666666666666, -0.16666666666666666, -0.16666666666666666, -0.3333333333333333, -0.16666666666666666, -0.16666666666666666, -0.16666666666666666, -0.3333333333333333, -0.5, -0.3333333333333333, -0.16666666666666666, -0.16666666666666666, -0.16666666666666666, 0.0, 0.3333333333333333, 0.3333333333333333, 0.16666666666666666, 0.16666666666666666, 0.0]], [7, [-0.2857142857142857, -0.2857142857142857, -0.2857142857142857, -0.2857142857142857, -0.2857142857142857, -0.2857142857142857, -0.14285714285714285, -0.14285714285714285, -0.2857142857142857, -0.2857142857142857, -0.14285714285714285, -0.14285714285714285, -0.2857142857142857, -0.42857142857142855, -0.42857142857142855, -0.14285714285714285, -0.14285714285714285, -0.14285714285714285, -0.14285714285714285, 0.14285714285714285, 0.2857142857142857, 0.2857142857142857, 0.14285714285714285, 0.0]]]\n"
     ]
    }
   ],
   "source": [
    "print sample_df.ix[231268, 'sentiment']"
   ]
  },
  {
   "cell_type": "code",
   "execution_count": null,
   "metadata": {
    "collapsed": true
   },
   "outputs": [],
   "source": []
  }
 ],
 "metadata": {
  "kernelspec": {
   "display_name": "Python 2",
   "language": "python",
   "name": "python2"
  },
  "language_info": {
   "codemirror_mode": {
    "name": "ipython",
    "version": 2
   },
   "file_extension": ".py",
   "mimetype": "text/x-python",
   "name": "python",
   "nbconvert_exporter": "python",
   "pygments_lexer": "ipython2",
   "version": "2.7.13"
  }
 },
 "nbformat": 4,
 "nbformat_minor": 2
}
